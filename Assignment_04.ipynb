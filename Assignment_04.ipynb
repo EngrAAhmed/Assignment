{
 "cells": [
  {
   "cell_type": "code",
   "execution_count": 1,
   "metadata": {},
   "outputs": [
    {
     "name": "stdout",
     "output_type": "stream",
     "text": [
      "Ahsan \n",
      "Ali\n",
      "25 years\n",
      "Hyderabad\n",
      "Bachelor Degree\n"
     ]
    }
   ],
   "source": [
    "#Use a dictionary to store information about a person you know. Store their first name, last name, age,\n",
    "#and the city in which they live. You should have keys such as first_name, last_name, age, and city. Print\n",
    "#each piece of information stored in your dictionary. Add a new key value pair about qualification then\n",
    "#update the qualification value to high academic level then delete it.\n",
    "\n",
    "mydic={\n",
    "    \"f.name\": \"Ahsan \",\n",
    "    \"l.name\": \"Ali\",\n",
    "    \"Age\":\"25 years\",\n",
    "    \"City\":\"Hyderabad\"\n",
    "}\n",
    "mydic[\"Qualification\"]=\"Bachelor Degree\"\n",
    "print(mydic['f.name'])\n",
    "print(mydic['l.name'])\n",
    "print(mydic['Age'])\n",
    "print(mydic['City'])\n",
    "print(mydic['Qualification'])\n",
    "      "
   ]
  },
  {
   "cell_type": "code",
   "execution_count": 2,
   "metadata": {},
   "outputs": [
    {
     "name": "stdout",
     "output_type": "stream",
     "text": [
      "\n",
      "Karachi is in Pakistan.\n",
      "  It has a population of about 20 millions.\n",
      "  The Fact is Quaid E Azam Mazar Is In Karachi\n",
      "\n",
      "London is in United Kingdom.\n",
      "  It has a population of about 8.9 million .\n",
      "  The Fact is River Thames Is Just A Beauty\n",
      "\n",
      "Paris is in France.\n",
      "  It has a population of about 2.141.\n",
      "  The Fact is Eifel Tower Is The Recognition Of Paris\n"
     ]
    }
   ],
   "source": [
    "#Make a dictionary called cities. Use the names of three cities as keys in your dictionary.\n",
    "#Create a dictionary of information about each city and include the country that the city is\n",
    "#in, its approximate population, and one fact about that city. The keys for each city’s dictionary \n",
    "#should be something like country, population, and fact.\n",
    "#Print the name of each city and all of the information you have stored about it\n",
    "\n",
    "cities = {\n",
    "    'Karachi': {\n",
    "        'country': 'Pakistan',\n",
    "        'population': '20 millions',\n",
    "        'fact': 'Quaid e Azam Mazar is in Karachi',\n",
    "        },\n",
    "    'London': {\n",
    "        'country': 'United Kingdom',\n",
    "        'population': '8.9 million ',\n",
    "        'fact': 'River Thames is Just a Beauty',\n",
    "        },\n",
    "    'Paris': {\n",
    "        'country': 'France',\n",
    "        'population': '2.141',\n",
    "        'fact': 'Eifel Tower is the Recognition of Paris',\n",
    "        }\n",
    "    }\n",
    "\n",
    "for city, city_info in cities.items():\n",
    "    country = city_info['country'].title()\n",
    "    population = city_info['population']\n",
    "    facts = city_info['fact'].title()\n",
    "\n",
    "    print(\"\\n\" + city.title() + \" is in \" + country + \".\")\n",
    "    print(\"  It has a population of about \" + str(population) + \".\")\n",
    "    print(\"  The Fact is \" + facts)\n"
   ]
  },
  {
   "cell_type": "code",
   "execution_count": null,
   "metadata": {},
   "outputs": [],
   "source": [
    "#A movie theater charges different ticket prices depending on a person’s age. \n",
    "#If a person is under the age of 3, the ticket is free; if they are between 3 and 12,\n",
    "#the ticket is $10; and if they are over age 12, the ticket is $15.\n",
    "#Write a loop in which you ask users their age, and then tell them the cost of their movie ticket.\n",
    "\n",
    "prompt = \"\\nPlease enter your age: \"\n",
    "\n",
    "while True:\n",
    "    age = input(prompt)\n",
    "    age = int(age)\n",
    "\n",
    "\n",
    "    if age == 'quit':\n",
    "        break\n",
    "    elif age <= 3:\n",
    "        print(\"Your ticket is free\")\n",
    "    elif age <= 12:\n",
    "        print(\"Your ticket is $10\")\n",
    "    else:\n",
    "        print(\"Your ticket is $15\")"
   ]
  },
  {
   "cell_type": "code",
   "execution_count": null,
   "metadata": {},
   "outputs": [],
   "source": [
    "#Write a function called favorite_book() that accepts one parameter, title.\n",
    "#The function should print a message, such as One of my favorite books is Alice in Wonderland.\n",
    "#Call the function, making sure to include a book title as an argument in the function call.\n",
    "\n",
    "def favorite_book(title):\n",
    "    print(title + \" is one of my favorite books.\")\n",
    "\n",
    "favorite_book('Alchemist By Paulo Cohleo')"
   ]
  },
  {
   "cell_type": "code",
   "execution_count": null,
   "metadata": {},
   "outputs": [],
   "source": [
    "#Guess the number game\n",
    "#Write a program which randomly generate a number between 1 to 30 \n",
    "#and ask the user in input field to guess the correct number.\n",
    "#Give three chances to user guess the number and also give hint\n",
    "#to user if hidden number is greater or smaller than the number \n",
    "#he given to input field.\n",
    "\n",
    "\n",
    "\n",
    "\n",
    "import random\n",
    "\n",
    "guessesTaken = 0\n",
    "\n",
    "print('Hello! What is your name?')\n",
    "myName = input()\n",
    "number = random.randint(1, 30)\n",
    "print('Well, ' + myName + ', I am thinking of a number between 1 and 30.')\n",
    "while guessesTaken < 3:\n",
    "    print('Take a guess.')\n",
    "    guess = input()\n",
    "    guess = int(guess)\n",
    "\n",
    "    guessesTaken = guessesTaken + 1\n",
    "    if guess < number:\n",
    "        \n",
    "        print('Your guess is too low.')\n",
    "    if guess > number:\n",
    "        \n",
    "         print('Your guess is too high.')\n",
    "    if guess == number:\n",
    "       break\n",
    "    \n",
    "if guess == number:\n",
    "        guessesTaken = str(guessesTaken)\n",
    "        print('Good job, ' + myName + '! You guessed my number in ' + guessesTaken + ' guesses!')\n",
    "if guess != number:\n",
    "    number = str(number)\n",
    "    print('Nope. The number I was thinking of was ' + number)\n",
    "                         "
   ]
  },
  {
   "cell_type": "code",
   "execution_count": null,
   "metadata": {},
   "outputs": [],
   "source": []
  }
 ],
 "metadata": {
  "kernelspec": {
   "display_name": "Python 3",
   "language": "python",
   "name": "python3"
  },
  "language_info": {
   "codemirror_mode": {
    "name": "ipython",
    "version": 3
   },
   "file_extension": ".py",
   "mimetype": "text/x-python",
   "name": "python",
   "nbconvert_exporter": "python",
   "pygments_lexer": "ipython3",
   "version": "3.7.4"
  }
 },
 "nbformat": 4,
 "nbformat_minor": 2
}
