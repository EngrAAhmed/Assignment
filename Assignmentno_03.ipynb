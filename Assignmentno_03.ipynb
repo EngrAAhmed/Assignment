{
 "cells": [
  {
   "cell_type": "code",
   "execution_count": 6,
   "metadata": {},
   "outputs": [
    {
     "name": "stdout",
     "output_type": "stream",
     "text": [
      "enter the first value3\n",
      "enter the second value3\n",
      "enter the operator**\n",
      "27 answer\n"
     ]
    }
   ],
   "source": [
    "# Q no : 1 Make a calculator using Python with addition , subtraction , multiplication , division and power.\n",
    "\n",
    "val1=input('enter the first value')\n",
    "val2=input('enter the second value')\n",
    "op=input('enter the operator')\n",
    "\n",
    "val1=int(val1)\n",
    "val2=int(val2)\n",
    "\n",
    "if op == '+':\n",
    "    val=val1+val2\n",
    "    print(val,'answer')\n",
    "elif op == '-':\n",
    "    val=val1-val2\n",
    "    print(val,'answer')\n",
    "elif op == '*':\n",
    "    val=val1*val2\n",
    "    print(val,'answer')\n",
    "elif op == '/':\n",
    "    val=val1/val2\n",
    "    print(val,'answer')\n",
    "elif op == '**':\n",
    "    val=val1**val2\n",
    "    print(val,'answer')\n",
    "    \n",
    "else:\n",
    "    print('Enter correct operator')\n",
    "   "
   ]
  },
  {
   "cell_type": "code",
   "execution_count": 4,
   "metadata": {},
   "outputs": [
    {
     "name": "stdout",
     "output_type": "stream",
     "text": [
      "Checking if value exists in list ( using in ) : \n",
      "Element Exists\n"
     ]
    }
   ],
   "source": [
    "#Q no 2 Write a program to check if there is any numeric value in list using for loop\n",
    "\n",
    "test_list = [ 1, 6, 3, 5, 3, 4 ] \n",
    "print(\"Checking if value exists in list ( using in ) : \") \n",
    "for i in test_list: \n",
    "    if(i == 6) : \n",
    "        print (\"Element Exists\") "
   ]
  },
  {
   "cell_type": "code",
   "execution_count": 10,
   "metadata": {},
   "outputs": [
    {
     "name": "stdout",
     "output_type": "stream",
     "text": [
      "{'Ali': 'Ahmed', 1: 20}\n",
      "{'Ali': 'Ahmed', 1: 20, 'Aqsa': 30}\n"
     ]
    }
   ],
   "source": [
    "#Q no 3. Write a Python script to add a key to a dictionary\n",
    "d = {'Ali':'Ahmed', 1:20}\n",
    "print(d)\n",
    "d.update({'Aqsa':30})\n",
    "print(d)"
   ]
  },
  {
   "cell_type": "code",
   "execution_count": 1,
   "metadata": {},
   "outputs": [
    {
     "name": "stdout",
     "output_type": "stream",
     "text": [
      "293\n"
     ]
    }
   ],
   "source": [
    "#Q no 4 Write a Python program to sum all the numeric items in a dictionary\n",
    "my_dict = {'data1':100,'data2':-54,'data3':247}\n",
    "print(sum(my_dict.values()))"
   ]
  },
  {
   "cell_type": "code",
   "execution_count": 2,
   "metadata": {},
   "outputs": [
    {
     "name": "stdout",
     "output_type": "stream",
     "text": [
      "[3, 9, 12]\n"
     ]
    }
   ],
   "source": [
    "#Q no 5 Write a program to identify duplicate values from list\n",
    "lst = [ 3, 6, 9, 12, 3, 30, 15, 9, 45, 36, 12, 12]\n",
    "dup = []\n",
    "diff = {}\n",
    "for x in lst:\n",
    "   if x not in diff:\n",
    "      diff[x] = 1\n",
    "   else:\n",
    "      if diff[x] == 1:\n",
    "         dup.append(x)\n",
    "      diff[x] += 1\n",
    "print(dup)\n"
   ]
  },
  {
   "cell_type": "code",
   "execution_count": 3,
   "metadata": {},
   "outputs": [
    {
     "name": "stdout",
     "output_type": "stream",
     "text": [
      "Key is present in the dictionary\n",
      "Key is present in the dictionary\n"
     ]
    }
   ],
   "source": [
    "#Q no 6 Write a Python script to check if a given key already exists in a dictionary\n",
    "d = {1: 10, 2: 20, 3: 30, 4: 40, 5: 50, 6: 60}\n",
    "def is_key_present(x):\n",
    "  if x in d:\n",
    "      print('Key is present in the dictionary')\n",
    "  else:\n",
    "      print('Key is not present in the dictionary')\n",
    "is_key_present(2)\n",
    "is_key_present(4)"
   ]
  },
  {
   "cell_type": "code",
   "execution_count": null,
   "metadata": {},
   "outputs": [],
   "source": []
  }
 ],
 "metadata": {
  "kernelspec": {
   "display_name": "Python 3",
   "language": "python",
   "name": "python3"
  },
  "language_info": {
   "codemirror_mode": {
    "name": "ipython",
    "version": 3
   },
   "file_extension": ".py",
   "mimetype": "text/x-python",
   "name": "python",
   "nbconvert_exporter": "python",
   "pygments_lexer": "ipython3",
   "version": "3.7.4"
  }
 },
 "nbformat": 4,
 "nbformat_minor": 2
}
